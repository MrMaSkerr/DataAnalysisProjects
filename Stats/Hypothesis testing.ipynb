{
 "cells": [
  {
   "cell_type": "code",
   "execution_count": 3,
   "id": "af1c4faa",
   "metadata": {
    "ExecuteTime": {
     "end_time": "2021-10-15T08:40:11.237752Z",
     "start_time": "2021-10-15T08:40:11.227752Z"
    }
   },
   "outputs": [],
   "source": [
    "import numpy as np\n",
    "import pandas as pd\n",
    "import statsmodels.api as sm\n",
    "import scipy.stats as stats"
   ]
  },
  {
   "cell_type": "markdown",
   "id": "b8245c0e",
   "metadata": {},
   "source": [
    "# One sample tests"
   ]
  },
  {
   "cell_type": "markdown",
   "id": "283aa5e6",
   "metadata": {},
   "source": [
    "# Hypothesis of mean\n",
    "\n",
    "Analysts usually want the data to be distributed normally, but in reality it is enough for the data to have many points, since the Central Limit Theorem does not define the distribution of the original data. Normality is important if someone has too few statistics to use the CLT. This remark is relevant not only for this test, but for most further tests.\n",
    "\n",
    "\n",
    "$H_0: \\mu = \\mu_o; H_1: \\mu > \\mu_0$ Statistics: $T = \\dfrac{x_m - \\mu}{s/\\sqrt n} \\sim t_{n-1}$"
   ]
  },
  {
   "cell_type": "markdown",
   "id": "96aac682",
   "metadata": {},
   "source": [
    "Since the T-test and Z-test for a single sample differ only depending on whether we know the variance of our data and the resulting statistic (t-distributed or normally distributed), I will only consider the T-test here. \n",
    "\n",
    "Assume we need to check if the mean of our data equals to some constant or larger.\n",
    "\n",
    "$H_0: \\mu = \\mu_o; H_1: \\mu > \\mu_0$ Statistics: $T = \\dfrac{x_m - \\mu}{s/\\sqrt n} \\sim t_{n-1}$"
   ]
  },
  {
   "cell_type": "code",
   "execution_count": 4,
   "id": "2e31c82e",
   "metadata": {
    "ExecuteTime": {
     "end_time": "2021-10-15T08:40:11.296321Z",
     "start_time": "2021-10-15T08:40:11.284317Z"
    }
   },
   "outputs": [],
   "source": [
    "n1 = stats.norm.rvs(loc = 100, scale = 10, size = 1000)\n",
    "n2 = stats.norm.rvs(loc = 105, scale = 10, size = 1000)\n",
    "mu = 100\n",
    "alpha = 0.05"
   ]
  },
  {
   "cell_type": "code",
   "execution_count": 5,
   "id": "8875951c",
   "metadata": {
    "ExecuteTime": {
     "end_time": "2021-10-15T08:40:11.317892Z",
     "start_time": "2021-10-15T08:40:11.305331Z"
    }
   },
   "outputs": [],
   "source": [
    "def one_samp_t(x, mu, aplha = 0.05, alt = 'greater'):\n",
    "    _, p = stats.ttest_1samp(x, mu, alternative=alt)\n",
    "    if p > alpha:\n",
    "        print(f'{p = }, we cant reject the null-hypothesis' )\n",
    "    else:\n",
    "        print(f'{p = }, we should reject the null-hypothesis' )"
   ]
  },
  {
   "cell_type": "code",
   "execution_count": 6,
   "id": "fa003587",
   "metadata": {
    "ExecuteTime": {
     "end_time": "2021-10-15T08:40:11.338879Z",
     "start_time": "2021-10-15T08:40:11.325888Z"
    }
   },
   "outputs": [
    {
     "name": "stdout",
     "output_type": "stream",
     "text": [
      "p = 0.7270183701156641, we cant reject the null-hypothesis\n",
      "p = 3.9918088274708455e-50, we should reject the null-hypothesis\n"
     ]
    }
   ],
   "source": [
    "one_samp_t(n1, mu)\n",
    "one_samp_t(n2, mu)\n",
    "# For z-test we can use sm.stats.ztest() function"
   ]
  },
  {
   "cell_type": "markdown",
   "id": "a851b838",
   "metadata": {},
   "source": [
    "# Proportion test\n",
    "\n",
    "This tests answers the question: \"Is there a statistically significant reason to assure a proportion of population to be equal to ...?\". For instance, we might wanna know the proportion of males whithin a population when we conduct a survey.\n",
    "\n",
    "This test uses statistics $T = \\dfrac{x - np}{\\sqrt{npq}} \\sim N(0, 1)$"
   ]
  },
  {
   "cell_type": "code",
   "execution_count": 7,
   "id": "c91a4ca2",
   "metadata": {
    "ExecuteTime": {
     "end_time": "2021-10-15T08:40:11.346884Z",
     "start_time": "2021-10-15T08:40:11.340884Z"
    }
   },
   "outputs": [],
   "source": [
    "# Assume we have n points of data, our observed proportion is p_obs and test-proporsion is p_test\n",
    "n = 1000\n",
    "p_test = 0.52\n",
    "p_obs = 0.56\n",
    "p = 0.05"
   ]
  },
  {
   "cell_type": "code",
   "execution_count": 8,
   "id": "2be1132e",
   "metadata": {
    "ExecuteTime": {
     "end_time": "2021-10-15T08:40:11.363891Z",
     "start_time": "2021-10-15T08:40:11.353885Z"
    }
   },
   "outputs": [
    {
     "name": "stdout",
     "output_type": "stream",
     "text": [
      "z_p = 0.005413460638565616, p = 0.05 H_0 is refected\n"
     ]
    }
   ],
   "source": [
    "_, z_p = sm.stats.proportions_ztest(n*p_obs, n, p_test, alternative = 'larger')\n",
    "if z_p > p:\n",
    "    print(f'{z_p = }, {p = } H_0 is not refected')\n",
    "else:\n",
    "    print(f'{z_p = }, {p = } H_0 is refected')"
   ]
  },
  {
   "cell_type": "markdown",
   "id": "b7bf783f",
   "metadata": {},
   "source": [
    "# Two samples tests"
   ]
  },
  {
   "cell_type": "markdown",
   "id": "6519a818",
   "metadata": {},
   "source": [
    "# Two samples mean\n",
    "\n",
    "Let's behave here as we did in the previous section- skip the known variance case. I'll only note that the same statistics as in the case of not equal unknown variances (see below) results in Z-statistics, instead of t-distribution."
   ]
  },
  {
   "cell_type": "markdown",
   "id": "f90787d2",
   "metadata": {},
   "source": [
    "There are two main cases here: $independent$ and $related$ samples cases. Let's start with related one."
   ]
  },
  {
   "cell_type": "markdown",
   "id": "3befbc27",
   "metadata": {},
   "source": [
    "For related samples statistics $T = \\dfrac{\\mu_1 - \\mu_2}{S(\\text{diff})\\big/\\sqrt n} \\sim t_{n-1}$. Here $\\mu_i$ - the mean of $i^{th}$ sample, $S(\\text{diff})$ - the standart derivation of difference of samples. Samples are assumed to be of equal size."
   ]
  },
  {
   "cell_type": "code",
   "execution_count": 9,
   "id": "48e0a078",
   "metadata": {
    "ExecuteTime": {
     "end_time": "2021-10-15T08:40:11.393891Z",
     "start_time": "2021-10-15T08:40:11.386888Z"
    }
   },
   "outputs": [],
   "source": [
    "# Generating related samples\n",
    "rvs1 = stats.norm.rvs(loc=5,scale=10,size=500)\n",
    "rvs2 = (stats.norm.rvs(loc=5,scale=10,size=500) + stats.norm.rvs(scale=0.2,size=500))\n",
    "rvs3 = (stats.norm.rvs(loc=8,scale=10,size=500) + stats.norm.rvs(scale=0.2,size=500))"
   ]
  },
  {
   "cell_type": "code",
   "execution_count": 10,
   "id": "6dfa9ee9",
   "metadata": {
    "ExecuteTime": {
     "end_time": "2021-10-15T08:40:11.408893Z",
     "start_time": "2021-10-15T08:40:11.398894Z"
    }
   },
   "outputs": [
    {
     "name": "stdout",
     "output_type": "stream",
     "text": [
      "Ttest_relResult(statistic=-0.32882626692700834, pvalue=0.742424962960837)\n",
      "Ttest_relResult(statistic=-4.498753692004057, pvalue=8.511783341802721e-06)\n"
     ]
    }
   ],
   "source": [
    "print(stats.ttest_rel(rvs1, rvs2))\n",
    "print(stats.ttest_rel(rvs1, rvs3))"
   ]
  },
  {
   "cell_type": "markdown",
   "id": "643cf90d",
   "metadata": {},
   "source": [
    "It seems that there're statifically significant reasons to think that rvs1 and rvs2 have equal mean, while for rvs1 and rvs2 we can't state the same."
   ]
  },
  {
   "cell_type": "markdown",
   "id": "235df76e",
   "metadata": {},
   "source": [
    "For independent samples with equal unknown variance we should evaluate statistics $T = \\dfrac{\\mu_1 - \\mu_2}{\\dfrac{(n_1 - 1)S_1^2 + (n_2 - 1)S_2^2}{n_1 + n_2 - 2}\\sqrt{\\dfrac{1}{n_1}+\\dfrac{1}{n_2}}}\\sim t_{n_1+n_2-2}$\n",
    "\n",
    "Hard one, isn't it?"
   ]
  },
  {
   "cell_type": "code",
   "execution_count": 11,
   "id": "6dab58e4",
   "metadata": {
    "ExecuteTime": {
     "end_time": "2021-10-15T08:40:11.417885Z",
     "start_time": "2021-10-15T08:40:11.410885Z"
    }
   },
   "outputs": [],
   "source": [
    "rvs1 = stats.norm.rvs(loc=5,scale=10,size=500)\n",
    "rvs2 = stats.norm.rvs(loc=5,scale=10,size=500)\n",
    "rvs3 = stats.norm.rvs(loc=8, scale=10, size=100)"
   ]
  },
  {
   "cell_type": "code",
   "execution_count": 12,
   "id": "f048e4a5",
   "metadata": {
    "ExecuteTime": {
     "end_time": "2021-10-15T08:40:11.429883Z",
     "start_time": "2021-10-15T08:40:11.420884Z"
    }
   },
   "outputs": [
    {
     "name": "stdout",
     "output_type": "stream",
     "text": [
      "Ttest_indResult(statistic=-1.4211348355366775, pvalue=0.15558994226206543)\n",
      "Ttest_indResult(statistic=-3.146082534155828, pvalue=0.0017369556915809718)\n"
     ]
    }
   ],
   "source": [
    "print(stats.ttest_ind(rvs1,rvs2, equal_var = True))\n",
    "print(stats.ttest_ind(rvs1,rvs3, equal_var = True))"
   ]
  },
  {
   "cell_type": "markdown",
   "id": "e31b29d2",
   "metadata": {},
   "source": [
    "There need no comments, I think..."
   ]
  },
  {
   "cell_type": "markdown",
   "id": "0fd7b933",
   "metadata": {},
   "source": [
    "If samples have unknown variance, that are not assumed to be equal, we use different statistics $T = \\dfrac{\\mu_1 - \\mu_2}{\\sqrt{\\dfrac{S_1^2}{n_1} + \\dfrac{S_1^2}{n_1}}}$"
   ]
  },
  {
   "cell_type": "code",
   "execution_count": 13,
   "id": "89176719",
   "metadata": {
    "ExecuteTime": {
     "end_time": "2021-10-15T08:40:11.443879Z",
     "start_time": "2021-10-15T08:40:11.435881Z"
    }
   },
   "outputs": [],
   "source": [
    "rvs1 = stats.norm.rvs(loc=5,scale=10,size=500)\n",
    "rvs2 = stats.norm.rvs(loc=5,scale=15,size=500)\n",
    "rvs3 = stats.norm.rvs(loc=8, scale=20, size=100)"
   ]
  },
  {
   "cell_type": "code",
   "execution_count": 14,
   "id": "5bab529d",
   "metadata": {
    "ExecuteTime": {
     "end_time": "2021-10-15T08:40:11.454884Z",
     "start_time": "2021-10-15T08:40:11.446882Z"
    }
   },
   "outputs": [
    {
     "name": "stdout",
     "output_type": "stream",
     "text": [
      "Ttest_indResult(statistic=0.30865781207004506, pvalue=0.7576581540510571)\n",
      "Ttest_indResult(statistic=-0.8862544913395295, pvalue=0.3772538614133164)\n"
     ]
    }
   ],
   "source": [
    "print(stats.ttest_ind(rvs1, rvs2, equal_var=False))\n",
    "print(stats.ttest_ind(rvs2, rvs3, equal_var=False))"
   ]
  },
  {
   "cell_type": "markdown",
   "id": "bace5e84",
   "metadata": {},
   "source": [
    "# Proportion test"
   ]
  },
  {
   "cell_type": "markdown",
   "id": "28da4492",
   "metadata": {},
   "source": [
    "Similar to one sample case, we use statistics $T = \\dfrac{p_1 - p_2}{\\sqrt{\\dfrac{p_1q_1}{n_1}+\\dfrac{p_2q_2}{n_2}}}\\sim N(0, 1)$"
   ]
  },
  {
   "cell_type": "code",
   "execution_count": 15,
   "id": "66a82b89",
   "metadata": {
    "ExecuteTime": {
     "end_time": "2021-10-15T08:40:11.462881Z",
     "start_time": "2021-10-15T08:40:11.458884Z"
    }
   },
   "outputs": [],
   "source": [
    "n1 = 1000\n",
    "n2 = 500\n",
    "p1_test = 0.52\n",
    "p2_test = 0.55\n",
    "p = 0.05"
   ]
  },
  {
   "cell_type": "code",
   "execution_count": 16,
   "id": "fa539c09",
   "metadata": {
    "ExecuteTime": {
     "end_time": "2021-10-15T08:40:11.473882Z",
     "start_time": "2021-10-15T08:40:11.466907Z"
    }
   },
   "outputs": [
    {
     "name": "stdout",
     "output_type": "stream",
     "text": [
      "p_value = 0.2724568487259569\n"
     ]
    }
   ],
   "source": [
    "_, p_value = sm.stats.proportions_ztest(count = [n1*p1_test, n2*p2_test], nobs = [n1, n2])\n",
    "print(f'{p_value = }')"
   ]
  },
  {
   "cell_type": "code",
   "execution_count": 17,
   "id": "47b63189",
   "metadata": {
    "ExecuteTime": {
     "end_time": "2021-10-15T08:40:11.483884Z",
     "start_time": "2021-10-15T08:40:11.475883Z"
    }
   },
   "outputs": [
    {
     "name": "stdout",
     "output_type": "stream",
     "text": [
      "p_value = 0.0033463056952775846\n"
     ]
    }
   ],
   "source": [
    "p2_test = 0.6\n",
    "_, p_value = sm.stats.proportions_ztest(count = [n1*p1_test, n2*p2_test], nobs = [n1, n2])\n",
    "print(f'{p_value = }')"
   ]
  },
  {
   "cell_type": "markdown",
   "id": "4ce34f33",
   "metadata": {},
   "source": [
    "That is all I wanted to consider in this notebook. More complicated and rarely used tests, like ANOVA, Levene’s or Bartlett’s tests, should be considered in the individual notebook, but not here.\n",
    "\n",
    "THE END."
   ]
  }
 ],
 "metadata": {
  "kernelspec": {
   "display_name": "Python 3",
   "language": "python",
   "name": "python3"
  },
  "language_info": {
   "codemirror_mode": {
    "name": "ipython",
    "version": 3
   },
   "file_extension": ".py",
   "mimetype": "text/x-python",
   "name": "python",
   "nbconvert_exporter": "python",
   "pygments_lexer": "ipython3",
   "version": "3.8.10"
  },
  "latex_envs": {
   "LaTeX_envs_menu_present": true,
   "autoclose": false,
   "autocomplete": true,
   "bibliofile": "biblio.bib",
   "cite_by": "apalike",
   "current_citInitial": 1,
   "eqLabelWithNumbers": true,
   "eqNumInitial": 1,
   "hotkeys": {
    "equation": "Ctrl-E",
    "itemize": "Ctrl-I"
   },
   "labels_anchors": false,
   "latex_user_defs": false,
   "report_style_numbering": false,
   "user_envs_cfg": false
  },
  "varInspector": {
   "cols": {
    "lenName": 16,
    "lenType": 16,
    "lenVar": 40
   },
   "kernels_config": {
    "python": {
     "delete_cmd_postfix": "",
     "delete_cmd_prefix": "del ",
     "library": "var_list.py",
     "varRefreshCmd": "print(var_dic_list())"
    },
    "r": {
     "delete_cmd_postfix": ") ",
     "delete_cmd_prefix": "rm(",
     "library": "var_list.r",
     "varRefreshCmd": "cat(var_dic_list()) "
    }
   },
   "types_to_exclude": [
    "module",
    "function",
    "builtin_function_or_method",
    "instance",
    "_Feature"
   ],
   "window_display": false
  }
 },
 "nbformat": 4,
 "nbformat_minor": 5
}
